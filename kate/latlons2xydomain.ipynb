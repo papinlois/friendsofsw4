{
 "cells": [
  {
   "cell_type": "markdown",
   "id": "1a9f8779-bb2d-4deb-ae00-1caebb3e7e76",
   "metadata": {},
   "source": [
    "# LAT LON to Cart"
   ]
  },
  {
   "cell_type": "code",
   "execution_count": 1,
   "id": "117adc3e-f354-40fa-a45d-9f9553123d6a",
   "metadata": {},
   "outputs": [],
   "source": [
    "import numpy as np\n",
    "from obspy.geodetics.base import gps2dist_azimuth"
   ]
  },
  {
   "cell_type": "code",
   "execution_count": 10,
   "id": "e61e3d77-5235-4577-b48d-7ad93dfd9fa6",
   "metadata": {},
   "outputs": [],
   "source": [
    "lat_origin=19.2\n",
    "lon_origin=-155.9\n",
    "# Domain\n",
    "X = 74e3 # m\n",
    "Y = 88e3 # m\n",
    "# Event Locs\n",
    "lon_source, lat_source = -155.496031,\t19.791815\n",
    "# Sta Locs\n",
    "lat_sta=19.7573\n",
    "\n",
    "lon_sta=-155.5326\n"
   ]
  },
  {
   "cell_type": "code",
   "execution_count": 11,
   "id": "e8137caa-029e-4446-b762-63f7400bea28",
   "metadata": {},
   "outputs": [
    {
     "name": "stdout",
     "output_type": "stream",
     "text": [
      "42483.62243993607 65512.7787733404\n"
     ]
    },
    {
     "name": "stderr",
     "output_type": "stream",
     "text": [
      "/var/folders/gm/n9tndkz53wqc5031zq29976r0000gn/T/ipykernel_21568/2827738390.py:2: DeprecationWarning: `alltrue` is deprecated as of NumPy 1.25.0, and will be removed in NumPy 2.0. Please use `all` instead.\n",
      "  x_source,_,_= gps2dist_azimuth(lat_origin, lon_origin, lat_origin, lon_source)\n",
      "/var/folders/gm/n9tndkz53wqc5031zq29976r0000gn/T/ipykernel_21568/2827738390.py:3: DeprecationWarning: `alltrue` is deprecated as of NumPy 1.25.0, and will be removed in NumPy 2.0. Please use `all` instead.\n",
      "  y_source,_,_= gps2dist_azimuth(lat_origin, lon_origin, lat_source, lon_origin)\n"
     ]
    }
   ],
   "source": [
    "# Compute cartesian locations for source\n",
    "x_source,_,_= gps2dist_azimuth(lat_origin, lon_origin, lat_origin, lon_source)\n",
    "y_source,_,_= gps2dist_azimuth(lat_origin, lon_origin, lat_source, lon_origin)\n",
    "print(x_source, y_source)\n"
   ]
  },
  {
   "cell_type": "code",
   "execution_count": 12,
   "id": "0ec8184a-91b7-46c6-9051-81db0981a3ae",
   "metadata": {},
   "outputs": [
    {
     "name": "stdout",
     "output_type": "stream",
     "text": [
      "38637.824904461304 61691.91692692432\n"
     ]
    },
    {
     "name": "stderr",
     "output_type": "stream",
     "text": [
      "/var/folders/gm/n9tndkz53wqc5031zq29976r0000gn/T/ipykernel_21568/1785234067.py:2: DeprecationWarning: `alltrue` is deprecated as of NumPy 1.25.0, and will be removed in NumPy 2.0. Please use `all` instead.\n",
      "  x_sta,_,_= gps2dist_azimuth(lat_origin, lon_origin, lat_origin, lon_sta)\n",
      "/var/folders/gm/n9tndkz53wqc5031zq29976r0000gn/T/ipykernel_21568/1785234067.py:3: DeprecationWarning: `alltrue` is deprecated as of NumPy 1.25.0, and will be removed in NumPy 2.0. Please use `all` instead.\n",
      "  y_sta,_,_= gps2dist_azimuth(lat_origin, lon_origin, lat_sta, lon_origin)\n"
     ]
    }
   ],
   "source": [
    "# Compute cartesian locations for sta\n",
    "x_sta,_,_= gps2dist_azimuth(lat_origin, lon_origin, lat_origin, lon_sta)\n",
    "y_sta,_,_= gps2dist_azimuth(lat_origin, lon_origin, lat_sta, lon_origin)\n",
    "print(x_sta, y_sta)"
   ]
  },
  {
   "cell_type": "code",
   "execution_count": null,
   "id": "d365b2ed-eb9e-4ab1-9c96-004889d25e9f",
   "metadata": {},
   "outputs": [],
   "source": []
  }
 ],
 "metadata": {
  "kernelspec": {
   "display_name": "Python 3 (ipykernel)",
   "language": "python",
   "name": "python3"
  },
  "language_info": {
   "codemirror_mode": {
    "name": "ipython",
    "version": 3
   },
   "file_extension": ".py",
   "mimetype": "text/x-python",
   "name": "python",
   "nbconvert_exporter": "python",
   "pygments_lexer": "ipython3",
   "version": "3.9.15"
  }
 },
 "nbformat": 4,
 "nbformat_minor": 5
}
